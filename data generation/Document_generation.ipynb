{
 "cells": [
  {
   "cell_type": "code",
   "execution_count": 1,
   "metadata": {},
   "outputs": [],
   "source": [
    "import pandas as pd\n",
    "from tqdm.notebook import tqdm\n",
    "import numpy as np"
   ]
  },
  {
   "cell_type": "code",
   "execution_count": 2,
   "metadata": {},
   "outputs": [],
   "source": [
    "shared_dir = '/gpfs/space/projects/stud_ml_22/NLP'"
   ]
  },
  {
   "cell_type": "code",
   "execution_count": 3,
   "metadata": {},
   "outputs": [],
   "source": [
    "course_info_df = pd.read_pickle(f'{shared_dir}/data/course_info.pkl')"
   ]
  },
  {
   "cell_type": "code",
   "execution_count": 4,
   "metadata": {},
   "outputs": [],
   "source": [
    "from collections.abc import Iterable\n",
    "\n",
    "column_names = [\"title_en\", \n",
    "                'parent_code',\n",
    "                \"overview_objectives\",\n",
    "                \"overview_learning_outcomes\", \n",
    "                \"overview_description.en\",\n",
    "                \"overview_study_languages\",\n",
    "                \"general_structural_unit_shares\",\n",
    "                \"general_year.en\",\n",
    "                'general_type.en',\n",
    "                'additional_info_study_levels',\n",
    "                'additional_info_hours.lecture',\n",
    "                'additional_info_hours.practice',\n",
    "                'additional_info_hours.seminar',\n",
    "                'additional_info_hours.independent_work',\n",
    "                'additional_info_hours.individual_work',\n",
    "                'additional_info_hours.internship',\n",
    "                'parent_credits',\n",
    "                'participants_lecturers',\n",
    "                'participants_assistants',\n",
    "                'additional_info_is_vota_course',\n",
    "                'target_faculty.name.en',\n",
    "                'target_faculty.address',\n",
    "                'grading_independent_work_assessments',\n",
    "                'grading_grade_evaluation.et',\n",
    "                'grading_assessment_scale.en',\n",
    "                'grading_independent_work.et',\n",
    "               ]\n",
    "column_func = [lambda x: f\"The name of the course is {str(x)}. \", \n",
    "               lambda x: f'The code of it is {str(x)}.' if x else '',\n",
    "               lambda x: f\"The purpose of the course is  {str(x[0])} \".replace('\\n', '') if x and isinstance(x[0], str) and len(x[0]) > 5 else '', \n",
    "               lambda x: str(x[0]).replace('\\n', '') if x and isinstance(x[0], str) and len(x[0]) > 5 else '',\n",
    "               lambda x: str(x).strip(\"[\").strip(\"]\").replace('\\n', '') if x and isinstance(x, str) else '',\n",
    "               lambda x: f\"Language of instruction is {str(x[0]['name'])}. \" if x else '',\n",
    "               lambda x: f\"The course is offered by {str(x[0]['name'])}. \" if x else '',\n",
    "               lambda x: f\"The course is taught in {str(x)} years. \" if x else '',\n",
    "               lambda x: f\"The course is a {str(x)}. \" if x else '',\n",
    "               lambda x: f\"The course is offered for the folowing study levels: {','.join([d['code']for d in x])}. \" if x else '',\n",
    "               lambda x: f\"Number of lecture hours is {str(x)}. \" if x and x != 0 else '',\n",
    "               lambda x: f\"Number of practice hours is {str(x)}. \" if x and x != 0 else '',\n",
    "               lambda x: f\"Number of seminar hours is {str(x)}. \" if x and x != 0 else '',\n",
    "               lambda x: f\"Number of independent work hours is {str(x)}. \" if x and x != 0 else '',\n",
    "               lambda x: f\"Number of individual hours is {str(x)}. \" if x and x != 0 else '',\n",
    "               lambda x: f\"Number of internship hours is {str(x)}. \" if x and x != 0 else '',\n",
    "               lambda x: f\"Number of credits is {str(x)}. \" if x and x != 0 else '',\n",
    "               lambda x: f\"The course lecturers are: {', '.join([d['person_name'] for d in x])}. \" if x and isinstance(x, Iterable) else '',\n",
    "               lambda x: f\"The course assistants are: {', '.join([d['person_name'] for d in x])}. \" if x and isinstance(x, Iterable) and isinstance(x, dict) else '',\n",
    "               lambda x: f'Prior learning can be recognised for this course. ' if x else 'Prior learning can\\'t be recognised for this course. ',\n",
    "               lambda x: f'The course is offered by {x}. ' if x else '',\n",
    "               lambda x: f'The faculty is located in {x}. ' if x else '',\n",
    "               lambda x: f'The graded tasks for the students include {\", \".join([item[\"work_type_name\"] for item in x])}.' if x else '',\n",
    "               lambda x: f'{x}. ',\n",
    "               lambda x: f'The grading is {x}. ' if x else '',\n",
    "               lambda x: f'The individual work includes {x}. ' if x else '',\n",
    "    ]"
   ]
  },
  {
   "cell_type": "code",
   "execution_count": 5,
   "metadata": {},
   "outputs": [],
   "source": [
    "def get_document(row, cnames=[], cfunc=[]):\n",
    "    try:\n",
    "        s = ''.join([cf(row[cn]) for cn, cf in zip(cnames, cfunc)])\n",
    "    except Exception as e:\n",
    "        print(e)\n",
    "    return s"
   ]
  },
  {
   "cell_type": "code",
   "execution_count": 6,
   "metadata": {},
   "outputs": [],
   "source": [
    "import functools\n",
    "\n",
    "course_info_df['all_course_info'] = course_info_df.apply(functools.partial(get_document, cnames=column_names, cfunc=column_func), axis=1)\n",
    "\n",
    "course_info_df[\"title_en\"] = course_info_df[\"title_en\"].astype(\"str\")"
   ]
  },
  {
   "cell_type": "code",
   "execution_count": 8,
   "metadata": {},
   "outputs": [
    {
     "data": {
      "text/plain": [
       "{'uuid': '64a12f89-bbf0-532f-c768-3cee36b7c7d2',\n",
       " 'code': nan,\n",
       " 'parent_uuid': 'b68ce1ed-0947-b1f8-3543-28350e98a007',\n",
       " 'parent_code': 'LTAT.01.001',\n",
       " 'parent_credits': 6.0,\n",
       " 'title_en': 'Natural Language Processing',\n",
       " 'general_input_languages': [{'language_code': 'et',\n",
       "   'language_name': 'Estonian'}],\n",
       " 'general_structural_unit_shares': [{'code': 'LTAT01',\n",
       "   'name': 'Chair of Natural Language Processing',\n",
       "   'course_share_percent': 100,\n",
       "   'coordinating': True}],\n",
       " 'general_year.en': '2023/2024',\n",
       " 'general_type.code': 'regular',\n",
       " 'general_type.en': 'Regular course',\n",
       " 'additional_info_is_vota_course': True,\n",
       " 'additional_info_is_continuous_learning_course': False,\n",
       " 'additional_info_study_levels': [{'code': 'master',\n",
       "   'title': \"master's studies\"},\n",
       "  {'code': 'doctoral', 'title': 'doctoral studies'}],\n",
       " 'additional_info_is_enlight_course': nan,\n",
       " 'additional_info_hours.lecture': 20.0,\n",
       " 'additional_info_hours.practice': 28,\n",
       " 'additional_info_hours.seminar': 12,\n",
       " 'additional_info_hours.independent_work': 96.0,\n",
       " 'additional_info_hours.individual_work': 0.0,\n",
       " 'additional_info_hours.internship': 0.0,\n",
       " 'additional_info_language_training.language.code': nan,\n",
       " 'additional_info_language_training.language.en': nan,\n",
       " 'additional_info_language_training.start_level.code': nan,\n",
       " 'additional_info_language_training.end_level.code': nan,\n",
       " 'overview_study_languages': [{'code': 'en', 'name': 'English'}],\n",
       " 'overview_other_languages': [{'code': 'en', 'name': 'English'}],\n",
       " 'overview_objectives': ['The goal of this subject is to teach students the contemporary natural language processing tasks and methods; to show how to formulate various NLP related problems as appropriate text mining or machine learning tasks; to practice implementing solutions to these tasks using appropriate tools and techniques.'],\n",
       " 'overview_learning_outcomes': ['After passing the course the student',\n",
       "  '- Knows the main natural language processing tasks.',\n",
       "  '- Knows the main methods for solving various natural language processing tasks.',\n",
       "  '- Can choose suitable methods for solving various natural language processing tasks.',\n",
       "  '- Can choose and use suitable software libraries for solving various natural language processing problems.'],\n",
       " 'overview_description.en': 'The course introduces basic natural language processing tasks such as language modeling, text classification, and sequence models. Tasks are formulated in deep-learning terms, using recurrent and attention-based neural networks. In addition, other topics relevant to natural language processing are discussed: text preprocessing, various text representation methods, methods for evaluating systems results etc.',\n",
       " 'overview_description.et': 'Kursuses tutvustatakse põhilisi loomuliku keele töötluse ülesandeid: keelemudelid, teksti klassifitseerija ja jadamudelid. Ülesandeid formuleeritakse süvaõppe terminites, tutvustades rekurrentseid ja tähelepanupõhiseid närvivõrke. Lisaks käsitletakse muid loomuliku keele töötluses olulisi teemasid: teksti eeltöötlus, erinevad tekstide representeerimise viisid, tulemuste hindamine jne.',\n",
       " 'overview_notes.et': nan,\n",
       " 'overview_notes.en': nan,\n",
       " 'overview_description.ru': nan,\n",
       " 'overview_description.fr': nan,\n",
       " 'overview_description.vro': nan,\n",
       " 'overview_description.es': nan,\n",
       " 'overview_description.de': nan,\n",
       " 'target_year.code': '2023',\n",
       " 'target_year.en': '2023/2024',\n",
       " 'target_semester.code': 'spring',\n",
       " 'target_study_type.en': 'regular studies',\n",
       " 'target_language.en': 'English',\n",
       " 'target_part.et': 'Osadeta',\n",
       " 'target_faculty.code': 'LT',\n",
       " 'target_faculty.name.en': 'Faculty of Science and Technology',\n",
       " 'target_faculty.email': nan,\n",
       " 'target_faculty.phone': nan,\n",
       " 'target_faculty.webpage_url': nan,\n",
       " 'target_faculty.address': 'Tartu linn, \\nTartu linn, Tartumaa \\nEST',\n",
       " 'target_faculty.city': 'Tartu linn',\n",
       " 'target_faculty.street': nan,\n",
       " 'target_faculty.zip': nan,\n",
       " 'target_faculty.level': 1,\n",
       " 'target_course_main_structural_unit.code': 'LTAT01',\n",
       " 'target_course_main_structural_unit.name.en': 'Chair of Natural Language Processing',\n",
       " 'target_course_main_structural_unit.webpage_url': nan,\n",
       " 'target_course_main_structural_unit.address': nan,\n",
       " 'target_course_main_structural_unit.city': nan,\n",
       " 'target_course_main_structural_unit.street': nan,\n",
       " 'target_course_main_structural_unit.zip': nan,\n",
       " 'target_course_main_structural_unit.level': 3,\n",
       " 'target_course_main_structural_unit.supports_continuous_learning': False,\n",
       " 'target_course_main_structural_unit.parent_code': 'LTAT',\n",
       " 'target_label.en': '23/24 S regular LT Eng',\n",
       " 'target_part_credits': nan,\n",
       " 'target_course_main_structural_unit.phone': nan,\n",
       " 'target_course_main_structural_unit.email': nan,\n",
       " 'grading_independent_work_assessments': [{'work_type_code': 'test',\n",
       "   'work_type_name': 'test',\n",
       "   'description': ''},\n",
       "  {'work_type_code': 'presentation',\n",
       "   'work_type_name': 'presentation',\n",
       "   'description': ''},\n",
       "  {'work_type_code': 'homework',\n",
       "   'work_type_name': 'home work',\n",
       "   'description': ''},\n",
       "  {'work_type_code': 'project',\n",
       "   'work_type_name': 'project',\n",
       "   'description': ''}],\n",
       " 'grading_grade_preconditions.et': nan,\n",
       " 'grading_grade_evaluation.et': 'Practical homeworks (max 40) + Theory test (max 20) + Project (max 30) + Seminar presentation (max 10) + Additional points (max 5) = max 105',\n",
       " 'grading_debt_elimination.et': 'Upon the agreement with the lecturer.',\n",
       " 'grading_assessment_scale.code': 'grade',\n",
       " 'grading_assessment_scale.en': 'differentiated (A, B, C, D, E, F, not present)',\n",
       " 'grading_independent_work.et': '4 practical homeworks, instructions in courses and moodle, submission in moodle\\nA project done individually or in groups, instructions in courses and moodle, submission in moodle\\nA seminar presentation based on an article, done in groups',\n",
       " 'grading_grade_conditions.arvestatud.et': nan,\n",
       " 'grading_grade_conditions.mittearvestatud.et': nan,\n",
       " 'grading_grade_conditions.mitteilmunud.et': nan,\n",
       " 'grading_results_available_from.et': nan,\n",
       " 'grading_min_points_from_tests': 51.0,\n",
       " 'grading_grade_preconditions.en': nan,\n",
       " 'grading_grade_evaluation.en': nan,\n",
       " 'grading_grade_conditions.A.en': nan,\n",
       " 'grading_grade_conditions.B.en': nan,\n",
       " 'grading_grade_conditions.C.en': nan,\n",
       " 'grading_grade_conditions.D.en': nan,\n",
       " 'grading_grade_conditions.E.en': nan,\n",
       " 'grading_grade_conditions.E.et': nan,\n",
       " 'grading_grade_conditions.F.en': nan,\n",
       " 'grading_debt_elimination.en': nan,\n",
       " 'grading_grade_conditions.mi.et': nan,\n",
       " 'grading_independent_work.en': nan,\n",
       " 'grading_results_available_from.en': nan,\n",
       " 'grading_grade_conditions.arvestatud.en': nan,\n",
       " 'grading_grade_conditions.mittearvestatud.en': nan,\n",
       " 'grading_grade_conditions.mitteilmunud.en': nan,\n",
       " 'resources_website_url': 'https://courses.cs.ut.ee/2023/NLP/',\n",
       " 'resources_is_moodle_connected': False,\n",
       " 'resources_materials': nan,\n",
       " 'resources_web_based.en': 'blended learning',\n",
       " 'resources_mandatory_materials': nan,\n",
       " 'resources_recommended_materials': '1) Jurafsky and Martin. Speech and Language Processing, 3rd ed. https://web.stanford.edu/~jurafsky/slp3/\\n2) Jacob Eisenstein. Introduction to Natural Language Processing. MIT Press. 2019. https://github.com/jacobeisenstein/gt-nlp-class/tree/master/notes',\n",
       " 'resources_learning_environments': nan,\n",
       " 'participants_lecturers': [{'person_uuid': '5972ddaf-e248-85ec-a4ff-d14f82d3244f',\n",
       "   'person_name': 'Kairit Sirts',\n",
       "   'structural_unit': {'code': 'LTAT01',\n",
       "    'name': {'en': 'Chair of Natural Language Processing',\n",
       "     'et': 'keeletehnoloogia õppetool'},\n",
       "    'level': 3,\n",
       "    'academic': True,\n",
       "    'supports_continuous_learning': False,\n",
       "    'parent_code': 'LTAT'},\n",
       "   'is_responsible': True,\n",
       "   'is_teaching': True},\n",
       "  {'person_uuid': '250b0acc-5061-a071-5111-fe2d157732c2',\n",
       "   'person_name': 'Emil Kalbaliyev',\n",
       "   'structural_unit': {'code': 'LTAT01',\n",
       "    'name': {'en': 'Chair of Natural Language Processing',\n",
       "     'et': 'keeletehnoloogia õppetool'},\n",
       "    'level': 3,\n",
       "    'academic': True,\n",
       "    'supports_continuous_learning': False,\n",
       "    'parent_code': 'LTAT'},\n",
       "   'is_responsible': False,\n",
       "   'is_teaching': True},\n",
       "  {'person_uuid': '3ca553a4-2aa6-5d55-068d-aaa6ac1b2738',\n",
       "   'person_name': 'Aleksei Dorkin',\n",
       "   'structural_unit': {'code': 'LTAT01',\n",
       "    'name': {'en': 'Chair of Natural Language Processing',\n",
       "     'et': 'keeletehnoloogia õppetool'},\n",
       "    'level': 3,\n",
       "    'academic': True,\n",
       "    'supports_continuous_learning': False,\n",
       "    'parent_code': 'LTAT'},\n",
       "   'is_responsible': False,\n",
       "   'is_teaching': True}],\n",
       " 'participants_assistants': nan,\n",
       " 'schedule_entries': [{'work_type': {'code': 'lecture',\n",
       "    'et': 'loeng',\n",
       "    'en': 'lecture'},\n",
       "   'topic': {},\n",
       "   'description': {'et': 'Introduction to NLP, basic text processing: Kairit Sirts'}},\n",
       "  {'work_type': {'code': 'practice',\n",
       "    'et': 'praktikum',\n",
       "    'en': 'practical session'},\n",
       "   'topic': {},\n",
       "   'description': {'et': 'Text processing: Emil Kalbaliyev'}},\n",
       "  {'work_type': {'code': 'lecture', 'et': 'loeng', 'en': 'lecture'},\n",
       "   'topic': {},\n",
       "   'description': {'et': 'Text classification: BOW, tf-idf, logistic regression: Kairit Sirts'}},\n",
       "  {'work_type': {'code': 'practice',\n",
       "    'et': 'praktikum',\n",
       "    'en': 'practical session'},\n",
       "   'topic': {},\n",
       "   'description': {'et': 'Text classification with statistical models and sklearn: Aleksei Dorking'}},\n",
       "  {'work_type': {'code': 'lecture', 'et': 'loeng', 'en': 'lecture'},\n",
       "   'topic': {},\n",
       "   'description': {'et': 'N-gram language models: Kairit Sirts'}},\n",
       "  {'work_type': {'code': 'practice',\n",
       "    'et': 'praktikum',\n",
       "    'en': 'practical session'},\n",
       "   'topic': {},\n",
       "   'description': {'et': 'N-gram language models: Emil Kalbaliyev'}},\n",
       "  {'work_type': {'code': 'lecture', 'et': 'loeng', 'en': 'lecture'},\n",
       "   'topic': {},\n",
       "   'description': {'et': 'Word embeddings: Kairit Sirts'}},\n",
       "  {'work_type': {'code': 'practice',\n",
       "    'et': 'praktikum',\n",
       "    'en': 'practical session'},\n",
       "   'topic': {},\n",
       "   'description': {'et': 'Word embeddings with Gensim and Fasttext: Aleksei Dorkin'}},\n",
       "  {'work_type': {'code': 'lecture', 'et': 'loeng', 'en': 'lecture'},\n",
       "   'topic': {},\n",
       "   'description': {'et': 'Sequence modeling with recurrent neural networks: Kairit Sirts'}},\n",
       "  {'work_type': {'code': 'practice',\n",
       "    'et': 'praktikum',\n",
       "    'en': 'practical session'},\n",
       "   'topic': {},\n",
       "   'description': {'et': 'Recurrent neural neworks with pytorch: Emil Kalbaliyev'}},\n",
       "  {'work_type': {'code': 'lecture', 'et': 'loeng', 'en': 'lecture'},\n",
       "   'topic': {},\n",
       "   'description': {'et': 'Encoder-decoder models and attenion mechanism: Kairit Sirts'}},\n",
       "  {'work_type': {'code': 'practice',\n",
       "    'et': 'praktikum',\n",
       "    'en': 'practical session'},\n",
       "   'topic': {},\n",
       "   'description': {'et': 'Encoder-decoder models with pytorch: Aleksei Dorkin'}},\n",
       "  {'work_type': {'code': 'lecture', 'et': 'loeng', 'en': 'lecture'},\n",
       "   'topic': {},\n",
       "   'description': {'et': 'Self-attention and transformer architecture: Kairit Sirts'}},\n",
       "  {'work_type': {'code': 'practice',\n",
       "    'et': 'praktikum',\n",
       "    'en': 'practical session'},\n",
       "   'topic': {},\n",
       "   'description': {'et': 'Transformers with Huggingface: Emil Kalbaliyev'}},\n",
       "  {'work_type': {'code': 'lecture', 'et': 'loeng', 'en': 'lecture'},\n",
       "   'topic': {},\n",
       "   'description': {'et': 'Linguistic structures and dependency parsing: Kairit Sirts'}},\n",
       "  {'work_type': {'code': 'practice',\n",
       "    'et': 'praktikum',\n",
       "    'en': 'practical session'},\n",
       "   'topic': {},\n",
       "   'description': {'et': 'Using dependency parsers: Aleksei Dorkin'}},\n",
       "  {'work_type': {'code': 'test', 'et': 'kontrolltöö', 'en': 'test'},\n",
       "   'topic': {},\n",
       "   'description': {'et': 'Test on theory'}},\n",
       "  {'work_type': {'code': 'lecture', 'et': 'loeng', 'en': 'lecture'},\n",
       "   'topic': {},\n",
       "   'description': {'et': 'Applications: Information retrieval and question-answering: Kairit Sirts'}},\n",
       "  {'work_type': {'code': 'practice',\n",
       "    'et': 'praktikum',\n",
       "    'en': 'practical session'},\n",
       "   'topic': {},\n",
       "   'description': {'et': 'Information retrieval and/or question-answering: Emil Kalbaliyev'}},\n",
       "  {'work_type': {'code': 'lecture', 'et': 'loeng', 'en': 'lecture'},\n",
       "   'topic': {},\n",
       "   'description': {'et': 'Text generation: Kairit Sirts'}},\n",
       "  {'work_type': {'code': 'practice',\n",
       "    'et': 'praktikum',\n",
       "    'en': 'practical session'},\n",
       "   'topic': {},\n",
       "   'description': {'et': 'Text generation: Aleksei Dorkin'}},\n",
       "  {'work_type': {'code': 'seminar', 'et': 'seminar', 'en': 'seminar'},\n",
       "   'topic': {},\n",
       "   'description': {'et': 'Transfer learning and multi-task learning: Kairit Sirts'}},\n",
       "  {'work_type': {'code': 'practice',\n",
       "    'et': 'praktikum',\n",
       "    'en': 'practical session'},\n",
       "   'topic': {},\n",
       "   'description': {'et': 'Project support: Emil Kalbaliyev and/or Aleksei Dorkin'}},\n",
       "  {'work_type': {'code': 'seminar', 'et': 'seminar', 'en': 'seminar'},\n",
       "   'topic': {},\n",
       "   'description': {'et': 'Prompting: Kairit Sirts'}},\n",
       "  {'work_type': {'code': 'practice',\n",
       "    'et': 'praktikum',\n",
       "    'en': 'practical session'},\n",
       "   'topic': {},\n",
       "   'description': {'et': 'Project support: Emil Kalbaliyev and/or Aleksei Dorkin'}},\n",
       "  {'work_type': {'code': 'seminar', 'et': 'seminar', 'en': 'seminar'},\n",
       "   'topic': {},\n",
       "   'description': {'et': 'Interpretability: Kairit Sirts'}},\n",
       "  {'work_type': {'code': 'practice',\n",
       "    'et': 'praktikum',\n",
       "    'en': 'practical session'},\n",
       "   'topic': {},\n",
       "   'description': {'et': 'Project support: Emil Kalbaliyev and/or Aleksei Dorkin'}},\n",
       "  {'work_type': {'code': 'seminar', 'et': 'seminar', 'en': 'seminar'},\n",
       "   'topic': {},\n",
       "   'description': {'et': 'Ethics, fairness and bias: Kairit Sirts'}},\n",
       "  {'work_type': {'code': 'practice',\n",
       "    'et': 'praktikum',\n",
       "    'en': 'practical session'},\n",
       "   'topic': {},\n",
       "   'description': {'et': 'Project support: Emil Kalbaliyev and/or Aleksei Dorkin'}},\n",
       "  {'work_type': {'code': 'seminar', 'et': 'seminar', 'en': 'seminar'},\n",
       "   'topic': {},\n",
       "   'description': {'et': 'Project seminar I: Kairit Sirts and/or Emil Kalbaliyev and/or Aleksei Dorkin'}},\n",
       "  {'work_type': {'code': 'seminar', 'et': 'seminar', 'en': 'seminar'},\n",
       "   'topic': {},\n",
       "   'description': {'et': 'Project seminar II: Kairit Sirts and/or Emil Kalbaliyev and/or Aleksei Dorkin'}}],\n",
       " 'schedule_weeks.et': 'weeks 24-39',\n",
       " 'registration_info_min_students': 5.0,\n",
       " 'registration_info_max_students': 60.0,\n",
       " 'registration_info_audience.en': nan,\n",
       " 'all_course_info': 'The name of the course is Natural Language Processing. The code of it is LTAT.01.001.The purpose of the course is  The goal of this subject is to teach students the contemporary natural language processing tasks and methods; to show how to formulate various NLP related problems as appropriate text mining or machine learning tasks; to practice implementing solutions to these tasks using appropriate tools and techniques. After passing the course the studentThe course introduces basic natural language processing tasks such as language modeling, text classification, and sequence models. Tasks are formulated in deep-learning terms, using recurrent and attention-based neural networks. In addition, other topics relevant to natural language processing are discussed: text preprocessing, various text representation methods, methods for evaluating systems results etc.Language of instruction is English. The course is offered by Chair of Natural Language Processing. The course is taught in 2023/2024 years. The course is a Regular course. The course is offered for the folowing study levels: master,doctoral. Number of lecture hours is 20.0. Number of practice hours is 28. Number of seminar hours is 12. Number of independent work hours is 96.0. Number of credits is 6.0. The course lecturers are: Kairit Sirts, Emil Kalbaliyev, Aleksei Dorkin. Prior learning can be recognised for this course. The course is offered by Faculty of Science and Technology. The faculty is located in Tartu linn, \\nTartu linn, Tartumaa \\nEST. The graded tasks for the students include test, presentation, home work, project.Practical homeworks (max 40) + Theory test (max 20) + Project (max 30) + Seminar presentation (max 10) + Additional points (max 5) = max 105. The grading is differentiated (A, B, C, D, E, F, not present). The individual work includes 4 practical homeworks, instructions in courses and moodle, submission in moodle\\nA project done individually or in groups, instructions in courses and moodle, submission in moodle\\nA seminar presentation based on an article, done in groups. '}"
      ]
     },
     "execution_count": 8,
     "metadata": {},
     "output_type": "execute_result"
    }
   ],
   "source": [
    "course_info_df[course_info_df['parent_code'] == 'LTAT.01.001'].iloc[0].to_dict()"
   ]
  },
  {
   "cell_type": "code",
   "execution_count": 98,
   "metadata": {},
   "outputs": [],
   "source": [
    "course_info_df[['title_en', 'all_course_info']].to_csv(f'{shared_dir}/data/new_documents.csv', index=False)"
   ]
  },
  {
   "cell_type": "code",
   "execution_count": 45,
   "metadata": {},
   "outputs": [],
   "source": [
    "documents = pd.DataFrame(course_info_df[['all_course_info']].values, columns=['text'])"
   ]
  },
  {
   "cell_type": "code",
   "execution_count": 46,
   "metadata": {},
   "outputs": [
    {
     "data": {
      "text/html": [
       "<div>\n",
       "<style scoped>\n",
       "    .dataframe tbody tr th:only-of-type {\n",
       "        vertical-align: middle;\n",
       "    }\n",
       "\n",
       "    .dataframe tbody tr th {\n",
       "        vertical-align: top;\n",
       "    }\n",
       "\n",
       "    .dataframe thead th {\n",
       "        text-align: right;\n",
       "    }\n",
       "</style>\n",
       "<table border=\"1\" class=\"dataframe\">\n",
       "  <thead>\n",
       "    <tr style=\"text-align: right;\">\n",
       "      <th></th>\n",
       "      <th>text</th>\n",
       "    </tr>\n",
       "  </thead>\n",
       "  <tbody>\n",
       "    <tr>\n",
       "      <th>0</th>\n",
       "      <td>The name of the course is Private Internationa...</td>\n",
       "    </tr>\n",
       "    <tr>\n",
       "      <th>1</th>\n",
       "      <td>The name of the course is Doctoral Seminar. Th...</td>\n",
       "    </tr>\n",
       "    <tr>\n",
       "      <th>2</th>\n",
       "      <td>The name of the course is Pedagogical Practicu...</td>\n",
       "    </tr>\n",
       "    <tr>\n",
       "      <th>3</th>\n",
       "      <td>The name of the course is Practice in the Work...</td>\n",
       "    </tr>\n",
       "    <tr>\n",
       "      <th>4</th>\n",
       "      <td>The name of the course is Bioinformatics Semin...</td>\n",
       "    </tr>\n",
       "    <tr>\n",
       "      <th>...</th>\n",
       "      <td>...</td>\n",
       "    </tr>\n",
       "    <tr>\n",
       "      <th>2934</th>\n",
       "      <td>The name of the course is Master's Thesis. The...</td>\n",
       "    </tr>\n",
       "    <tr>\n",
       "      <th>2935</th>\n",
       "      <td>The name of the course is Practical Russian. T...</td>\n",
       "    </tr>\n",
       "    <tr>\n",
       "      <th>2936</th>\n",
       "      <td>The name of the course is Security Perspective...</td>\n",
       "    </tr>\n",
       "    <tr>\n",
       "      <th>2937</th>\n",
       "      <td>The name of the course is Graduation Exam. The...</td>\n",
       "    </tr>\n",
       "    <tr>\n",
       "      <th>2938</th>\n",
       "      <td>The name of the course is Gamification and Imp...</td>\n",
       "    </tr>\n",
       "  </tbody>\n",
       "</table>\n",
       "<p>2939 rows × 1 columns</p>\n",
       "</div>"
      ],
      "text/plain": [
       "                                                   text\n",
       "0     The name of the course is Private Internationa...\n",
       "1     The name of the course is Doctoral Seminar. Th...\n",
       "2     The name of the course is Pedagogical Practicu...\n",
       "3     The name of the course is Practice in the Work...\n",
       "4     The name of the course is Bioinformatics Semin...\n",
       "...                                                 ...\n",
       "2934  The name of the course is Master's Thesis. The...\n",
       "2935  The name of the course is Practical Russian. T...\n",
       "2936  The name of the course is Security Perspective...\n",
       "2937  The name of the course is Graduation Exam. The...\n",
       "2938  The name of the course is Gamification and Imp...\n",
       "\n",
       "[2939 rows x 1 columns]"
      ]
     },
     "execution_count": 46,
     "metadata": {},
     "output_type": "execute_result"
    }
   ],
   "source": [
    "documents"
   ]
  },
  {
   "cell_type": "code",
   "execution_count": 16,
   "metadata": {},
   "outputs": [],
   "source": [
    "import json"
   ]
  },
  {
   "cell_type": "code",
   "execution_count": null,
   "metadata": {},
   "outputs": [],
   "source": [
    "exploded_lecturers = course_info_df.explode('participants_lecturers')\n",
    "exploded_lecturers['participants_lecturers'] = exploded_lecturers['participants_lecturers'].apply(lambda x: x['person_name'] if type(x) == dict else '')\n",
    "exploded_lecturers = exploded_lecturers.groupby('participants_lecturers').agg({'title_en': list}).reset_index()"
   ]
  },
  {
   "cell_type": "code",
   "execution_count": null,
   "metadata": {},
   "outputs": [],
   "source": [
    "exploded_lecturers[exploded_lecturers['participants_lecturers'] == 'Dmytro Fishman']"
   ]
  },
  {
   "cell_type": "code",
   "execution_count": 68,
   "metadata": {},
   "outputs": [
    {
     "data": {
      "text/plain": [
       "2779"
      ]
     },
     "execution_count": 68,
     "metadata": {},
     "output_type": "execute_result"
    }
   ],
   "source": [
    "len(exploded_lecturers)"
   ]
  },
  {
   "cell_type": "code",
   "execution_count": 69,
   "metadata": {},
   "outputs": [],
   "source": [
    "exploded_lecturers = exploded_lecturers[exploded_lecturers['participants_lecturers'] != '']"
   ]
  },
  {
   "cell_type": "code",
   "execution_count": 70,
   "metadata": {},
   "outputs": [
    {
     "data": {
      "text/plain": [
       "2778"
      ]
     },
     "execution_count": 70,
     "metadata": {},
     "output_type": "execute_result"
    }
   ],
   "source": [
    "len(exploded_lecturers)"
   ]
  },
  {
   "cell_type": "code",
   "execution_count": 71,
   "metadata": {},
   "outputs": [
    {
     "data": {
      "text/html": [
       "<div>\n",
       "<style scoped>\n",
       "    .dataframe tbody tr th:only-of-type {\n",
       "        vertical-align: middle;\n",
       "    }\n",
       "\n",
       "    .dataframe tbody tr th {\n",
       "        vertical-align: top;\n",
       "    }\n",
       "\n",
       "    .dataframe thead th {\n",
       "        text-align: right;\n",
       "    }\n",
       "</style>\n",
       "<table border=\"1\" class=\"dataframe\">\n",
       "  <thead>\n",
       "    <tr style=\"text-align: right;\">\n",
       "      <th></th>\n",
       "      <th>participants_lecturers</th>\n",
       "      <th>title_en</th>\n",
       "    </tr>\n",
       "  </thead>\n",
       "  <tbody>\n",
       "    <tr>\n",
       "      <th>1</th>\n",
       "      <td>Aare Abroi</td>\n",
       "      <td>[Virology]</td>\n",
       "    </tr>\n",
       "    <tr>\n",
       "      <th>2</th>\n",
       "      <td>Aare Luts</td>\n",
       "      <td>[Advanced Course of Atmospheric Sciences, Prac...</td>\n",
       "    </tr>\n",
       "    <tr>\n",
       "      <th>3</th>\n",
       "      <td>Aare Märtson</td>\n",
       "      <td>[Traumatology and Orthopaedics, Traumatology a...</td>\n",
       "    </tr>\n",
       "    <tr>\n",
       "      <th>4</th>\n",
       "      <td>Aare Ristikivi</td>\n",
       "      <td>[Basics and Methodology of Teaching Social Sci...</td>\n",
       "    </tr>\n",
       "    <tr>\n",
       "      <th>5</th>\n",
       "      <td>Aarne Kasikov</td>\n",
       "      <td>[Testing and Investigation Methods in Material...</td>\n",
       "    </tr>\n",
       "  </tbody>\n",
       "</table>\n",
       "</div>"
      ],
      "text/plain": [
       "  participants_lecturers                                           title_en\n",
       "1             Aare Abroi                                         [Virology]\n",
       "2              Aare Luts  [Advanced Course of Atmospheric Sciences, Prac...\n",
       "3           Aare Märtson  [Traumatology and Orthopaedics, Traumatology a...\n",
       "4         Aare Ristikivi  [Basics and Methodology of Teaching Social Sci...\n",
       "5          Aarne Kasikov  [Testing and Investigation Methods in Material..."
      ]
     },
     "execution_count": 71,
     "metadata": {},
     "output_type": "execute_result"
    }
   ],
   "source": [
    "exploded_lecturers.head()"
   ]
  },
  {
   "cell_type": "code",
   "execution_count": 72,
   "metadata": {},
   "outputs": [],
   "source": [
    "exploded_lecturers['title_en'] = exploded_lecturers['title_en'].apply(lambda x: ', '.join(x))"
   ]
  },
  {
   "cell_type": "code",
   "execution_count": 73,
   "metadata": {},
   "outputs": [],
   "source": [
    "exploded_lecturers['document'] = exploded_lecturers[\"participants_lecturers\"].astype(\"str\") + ' teaches ' + exploded_lecturers[\"title_en\"].astype(\"str\")"
   ]
  },
  {
   "cell_type": "code",
   "execution_count": 74,
   "metadata": {},
   "outputs": [
    {
     "data": {
      "text/html": [
       "<div>\n",
       "<style scoped>\n",
       "    .dataframe tbody tr th:only-of-type {\n",
       "        vertical-align: middle;\n",
       "    }\n",
       "\n",
       "    .dataframe tbody tr th {\n",
       "        vertical-align: top;\n",
       "    }\n",
       "\n",
       "    .dataframe thead th {\n",
       "        text-align: right;\n",
       "    }\n",
       "</style>\n",
       "<table border=\"1\" class=\"dataframe\">\n",
       "  <thead>\n",
       "    <tr style=\"text-align: right;\">\n",
       "      <th></th>\n",
       "      <th>participants_lecturers</th>\n",
       "      <th>title_en</th>\n",
       "      <th>document</th>\n",
       "    </tr>\n",
       "  </thead>\n",
       "  <tbody>\n",
       "    <tr>\n",
       "      <th>1</th>\n",
       "      <td>Aare Abroi</td>\n",
       "      <td>Virology</td>\n",
       "      <td>Aare Abroi teaches Virology</td>\n",
       "    </tr>\n",
       "    <tr>\n",
       "      <th>2</th>\n",
       "      <td>Aare Luts</td>\n",
       "      <td>Advanced Course of Atmospheric Sciences, Pract...</td>\n",
       "      <td>Aare Luts teaches Advanced Course of Atmospher...</td>\n",
       "    </tr>\n",
       "    <tr>\n",
       "      <th>3</th>\n",
       "      <td>Aare Märtson</td>\n",
       "      <td>Traumatology and Orthopaedics, Traumatology an...</td>\n",
       "      <td>Aare Märtson teaches Traumatology and Orthopae...</td>\n",
       "    </tr>\n",
       "    <tr>\n",
       "      <th>4</th>\n",
       "      <td>Aare Ristikivi</td>\n",
       "      <td>Basics and Methodology of Teaching Social Scie...</td>\n",
       "      <td>Aare Ristikivi teaches Basics and Methodology ...</td>\n",
       "    </tr>\n",
       "    <tr>\n",
       "      <th>5</th>\n",
       "      <td>Aarne Kasikov</td>\n",
       "      <td>Testing and Investigation Methods in Materials...</td>\n",
       "      <td>Aarne Kasikov teaches Testing and Investigatio...</td>\n",
       "    </tr>\n",
       "  </tbody>\n",
       "</table>\n",
       "</div>"
      ],
      "text/plain": [
       "  participants_lecturers                                           title_en  \\\n",
       "1             Aare Abroi                                           Virology   \n",
       "2              Aare Luts  Advanced Course of Atmospheric Sciences, Pract...   \n",
       "3           Aare Märtson  Traumatology and Orthopaedics, Traumatology an...   \n",
       "4         Aare Ristikivi  Basics and Methodology of Teaching Social Scie...   \n",
       "5          Aarne Kasikov  Testing and Investigation Methods in Materials...   \n",
       "\n",
       "                                            document  \n",
       "1                        Aare Abroi teaches Virology  \n",
       "2  Aare Luts teaches Advanced Course of Atmospher...  \n",
       "3  Aare Märtson teaches Traumatology and Orthopae...  \n",
       "4  Aare Ristikivi teaches Basics and Methodology ...  \n",
       "5  Aarne Kasikov teaches Testing and Investigatio...  "
      ]
     },
     "execution_count": 74,
     "metadata": {},
     "output_type": "execute_result"
    }
   ],
   "source": [
    "exploded_lecturers.head()"
   ]
  },
  {
   "cell_type": "code",
   "execution_count": 76,
   "metadata": {},
   "outputs": [
    {
     "data": {
      "text/plain": [
       "'Dmytro Fishman teaches Didactic Practice, Special Course in Machine Learning'"
      ]
     },
     "execution_count": 76,
     "metadata": {},
     "output_type": "execute_result"
    }
   ],
   "source": [
    "exploded_lecturers[exploded_lecturers['participants_lecturers'] == 'Dmytro Fishman']['document'].values[0]"
   ]
  },
  {
   "cell_type": "code",
   "execution_count": 77,
   "metadata": {},
   "outputs": [
    {
     "name": "stderr",
     "output_type": "stream",
     "text": [
      "/tmp/ipykernel_60985/282637676.py:1: FutureWarning: The frame.append method is deprecated and will be removed from pandas in a future version. Use pandas.concat instead.\n",
      "  documents = documents.append(pd.DataFrame(exploded_lecturers['document'].values, columns=['text']))\n"
     ]
    }
   ],
   "source": [
    "documents = documents.append(pd.DataFrame(exploded_lecturers['document'].values, columns=['text']))"
   ]
  },
  {
   "cell_type": "code",
   "execution_count": 80,
   "metadata": {},
   "outputs": [],
   "source": [
    "documents.to_csv(f'{shared_dir}/data/documents_with_professors.csv', index=False)"
   ]
  },
  {
   "cell_type": "code",
   "execution_count": null,
   "metadata": {},
   "outputs": [],
   "source": []
  }
 ],
 "metadata": {
  "kernelspec": {
   "display_name": "base",
   "language": "python",
   "name": "python3"
  },
  "language_info": {
   "codemirror_mode": {
    "name": "ipython",
    "version": 3
   },
   "file_extension": ".py",
   "mimetype": "text/x-python",
   "name": "python",
   "nbconvert_exporter": "python",
   "pygments_lexer": "ipython3",
   "version": "3.9.12"
  },
  "orig_nbformat": 4,
  "vscode": {
   "interpreter": {
    "hash": "7f87e18bb904b63d613a1c1ab8287a8eb0edd4bf3cf85a588f299936c6e031cd"
   }
  }
 },
 "nbformat": 4,
 "nbformat_minor": 2
}
